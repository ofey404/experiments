{
 "cells": [
  {
   "cell_type": "code",
   "execution_count": 1,
   "metadata": {},
   "outputs": [
    {
     "name": "stdout",
     "output_type": "stream",
     "text": [
      "2.0.19\n"
     ]
    }
   ],
   "source": [
    "import sqlalchemy\n",
    "print(sqlalchemy.__version__)"
   ]
  },
  {
   "cell_type": "code",
   "execution_count": 4,
   "metadata": {},
   "outputs": [],
   "source": [
    "# https://docs.sqlalchemy.org/en/20/tutorial/engine.html\n",
    "\n",
    "from sqlalchemy import create_engine\n",
    "\n",
    "engine = create_engine(\"sqlite+pysqlite:///:memory:\", echo=True)"
   ]
  },
  {
   "cell_type": "code",
   "execution_count": 5,
   "metadata": {},
   "outputs": [
    {
     "name": "stdout",
     "output_type": "stream",
     "text": [
      "2023-12-13 15:22:54,615 INFO sqlalchemy.engine.Engine BEGIN (implicit)\n",
      "2023-12-13 15:22:54,617 INFO sqlalchemy.engine.Engine select 'hello world'\n",
      "2023-12-13 15:22:54,619 INFO sqlalchemy.engine.Engine [generated in 0.00417s] ()\n",
      "[('hello world',)]\n",
      "2023-12-13 15:22:54,622 INFO sqlalchemy.engine.Engine ROLLBACK\n"
     ]
    }
   ],
   "source": [
    "# Getting a connection\n",
    "# https://docs.sqlalchemy.org/en/20/tutorial/dbapi_transactions.htmlhttps://docs.sqlalchemy.org/en/20/tutorial/dbapi_transactions.html\n",
    "\n",
    "from sqlalchemy import text\n",
    "\n",
    "with engine.connect() as conn:\n",
    "    # textual SQL statement\n",
    "    result = conn.execute(text(\"select 'hello world'\"))\n",
    "    print(result.all())\n",
    "\n",
    "    # The transaction is not committed automatically"
   ]
  },
  {
   "cell_type": "code",
   "execution_count": 6,
   "metadata": {},
   "outputs": [
    {
     "name": "stdout",
     "output_type": "stream",
     "text": [
      "2023-12-13 15:25:23,110 INFO sqlalchemy.engine.Engine BEGIN (implicit)\n",
      "2023-12-13 15:25:23,113 INFO sqlalchemy.engine.Engine CREATE TABLE some_table (x int, y int)\n",
      "2023-12-13 15:25:23,114 INFO sqlalchemy.engine.Engine [generated in 0.00396s] ()\n",
      "2023-12-13 15:25:23,116 INFO sqlalchemy.engine.Engine INSERT INTO some_table (x, y) VALUES (?, ?)\n",
      "2023-12-13 15:25:23,117 INFO sqlalchemy.engine.Engine [generated in 0.00122s] [(1, 1), (2, 4)]\n",
      "2023-12-13 15:25:23,118 INFO sqlalchemy.engine.Engine COMMIT\n"
     ]
    }
   ],
   "source": [
    "# commit changes in a `as you go` fashion\n",
    "with engine.connect() as conn:\n",
    "    conn.execute(text(\"CREATE TABLE some_table (x int, y int)\"))\n",
    "    conn.execute(\n",
    "        text(\"INSERT INTO some_table (x, y) VALUES (:x, :y)\"),\n",
    "        [{\"x\": 1, \"y\": 1}, {\"x\": 2, \"y\": 4}],\n",
    "    )\n",
    "    conn.commit()"
   ]
  },
  {
   "cell_type": "code",
   "execution_count": 7,
   "metadata": {},
   "outputs": [
    {
     "name": "stdout",
     "output_type": "stream",
     "text": [
      "2023-12-13 15:27:13,219 INFO sqlalchemy.engine.Engine BEGIN (implicit)\n",
      "2023-12-13 15:27:13,224 INFO sqlalchemy.engine.Engine INSERT INTO some_table (x, y) VALUES (?, ?)\n",
      "2023-12-13 15:27:13,225 INFO sqlalchemy.engine.Engine [cached since 110.1s ago] [(6, 8), (9, 10)]\n",
      "2023-12-13 15:27:13,226 INFO sqlalchemy.engine.Engine COMMIT\n"
     ]
    }
   ],
   "source": [
    "# `begin once`` fashion\n",
    "with engine.begin() as conn:\n",
    "    conn.execute(\n",
    "        text(\"INSERT INTO some_table (x, y) VALUES (:x, :y)\"),\n",
    "        [{\"x\": 6, \"y\": 8}, {\"x\": 9, \"y\": 10}],\n",
    "    )"
   ]
  },
  {
   "cell_type": "markdown",
   "metadata": {},
   "source": [
    "```\n",
    "2023-12-13 15:27:13,219 INFO sqlalchemy.engine.Engine BEGIN (implicit)\n",
    "```\n",
    "BEGIN (implicit) means it did not actually send any command."
   ]
  },
  {
   "cell_type": "code",
   "execution_count": 8,
   "metadata": {},
   "outputs": [
    {
     "name": "stdout",
     "output_type": "stream",
     "text": [
      "2023-12-13 15:29:48,153 INFO sqlalchemy.engine.Engine BEGIN (implicit)\n",
      "2023-12-13 15:29:48,156 INFO sqlalchemy.engine.Engine SELECT x, y FROM some_table\n",
      "2023-12-13 15:29:48,157 INFO sqlalchemy.engine.Engine [generated in 0.00382s] ()\n",
      "x: 1  y: 1\n",
      "x: 2  y: 4\n",
      "x: 6  y: 8\n",
      "x: 9  y: 10\n",
      "2023-12-13 15:29:48,160 INFO sqlalchemy.engine.Engine ROLLBACK\n"
     ]
    }
   ],
   "source": [
    "# select\n",
    "with engine.connect() as conn:\n",
    "    result = conn.execute(text(\"SELECT x, y FROM some_table\"))\n",
    "    for row in result:\n",
    "        print(f\"x: {row.x}  y: {row.y}\")"
   ]
  },
  {
   "cell_type": "code",
   "execution_count": null,
   "metadata": {},
   "outputs": [],
   "source": []
  }
 ],
 "metadata": {
  "kernelspec": {
   "display_name": "Python 3",
   "language": "python",
   "name": "python3"
  },
  "language_info": {
   "codemirror_mode": {
    "name": "ipython",
    "version": 3
   },
   "file_extension": ".py",
   "mimetype": "text/x-python",
   "name": "python",
   "nbconvert_exporter": "python",
   "pygments_lexer": "ipython3",
   "version": "3.10.12"
  },
  "orig_nbformat": 4
 },
 "nbformat": 4,
 "nbformat_minor": 2
}
