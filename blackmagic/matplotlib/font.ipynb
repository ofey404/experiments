{
 "cells": [
  {
   "cell_type": "markdown",
   "metadata": {},
   "source": [
    "安装中文字体\n",
    "\n",
    "https://www.cnblogs.com/adroitwolf/p/17748123.html"
   ]
  },
  {
   "cell_type": "code",
   "execution_count": 1,
   "metadata": {},
   "outputs": [
    {
     "data": {
      "text/plain": [
       "'/home/ofey/anaconda3/lib/python3.11/site-packages/matplotlib/mpl-data/matplotlibrc'"
      ]
     },
     "execution_count": 1,
     "metadata": {},
     "output_type": "execute_result"
    }
   ],
   "source": [
    "import matplotlib\n",
    "matplotlib.matplotlib_fname()"
   ]
  },
  {
   "cell_type": "code",
   "execution_count": 1,
   "metadata": {},
   "outputs": [],
   "source": [
    "# font dir\n",
    "!cd /home/ofey/anaconda3/lib/python3.11/site-packages/matplotlib/mpl-data/fonts/ && explorer.exe ."
   ]
  },
  {
   "cell_type": "code",
   "execution_count": 4,
   "metadata": {},
   "outputs": [
    {
     "name": "stdout",
     "output_type": "stream",
     "text": [
      "cmr10\n",
      "cmmi10\n",
      "Noto Mono\n",
      "cmsy10\n",
      "Ubuntu\n",
      "Droid Sans Fallback\n",
      "STIXGeneral\n",
      "STIXSizeFiveSym\n",
      "STIXNonUnicode\n",
      "cmb10\n",
      "Nimbus Mono PS\n",
      "Ubuntu Mono\n",
      "cmss10\n",
      "cmtt10\n",
      "DejaVu Sans Display\n",
      "cmex10\n",
      "DejaVu Serif Display\n",
      "STIXSizeTwoSym\n",
      "Liberation Sans Narrow\n",
      "Liberation Mono\n",
      "Ubuntu Condensed\n",
      "DejaVu Sans\n",
      "Nimbus Sans Narrow\n",
      "Standard Symbols PS\n",
      "URW Gothic\n",
      "Nimbus Sans\n",
      "Noto Sans Mono\n",
      "D050000L\n",
      "STIXSizeFourSym\n",
      "Z003\n",
      "C059\n",
      "Liberation Serif\n",
      "Liberation Sans\n",
      "STIXSizeThreeSym\n",
      "P052\n",
      "URW Bookman\n",
      "DejaVu Serif\n",
      "DejaVu Sans Mono\n",
      "STIXSizeOneSym\n",
      "Nimbus Roman\n"
     ]
    }
   ],
   "source": [
    "# 查询可用字体\n",
    "from matplotlib.font_manager import FontManager\n",
    " \n",
    "def get_fonts():\n",
    "    fm = FontManager()\n",
    "    mat_fonts = set(f.name for f in fm.ttflist)\n",
    "    for f in mat_fonts:\n",
    "        print(f)\n",
    "\n",
    "get_fonts()"
   ]
  },
  {
   "cell_type": "code",
   "execution_count": 1,
   "metadata": {},
   "outputs": [],
   "source": [
    "!code /home/ofey/anaconda3/lib/python3.11/site-packages/matplotlib/mpl-data/matplotlibrc\n",
    "\n",
    "# Drop microsoft yahei TTF into the \n",
    "# font.sans-serif: Microsoft YaHei, DejaVu Sans, Bitstream Vera Sans, Computer Modern Sans Serif, Lucida Grande, Verdana, Geneva, Lucid, Arial, Helvetica, Avant Garde, sans-serif\n",
    "\n",
    "\n",
    "# font.family:  Microsoft YaHei"
   ]
  },
  {
   "cell_type": "code",
   "execution_count": 5,
   "metadata": {},
   "outputs": [
    {
     "name": "stdout",
     "output_type": "stream",
     "text": [
      "cmr10\n",
      "cmmi10\n",
      "Noto Mono\n",
      "Microsoft YaHei\n",
      "cmsy10\n",
      "Ubuntu\n",
      "Droid Sans Fallback\n",
      "STIXGeneral\n",
      "STIXSizeFiveSym\n",
      "STIXNonUnicode\n",
      "cmb10\n",
      "Nimbus Mono PS\n",
      "Ubuntu Mono\n",
      "cmss10\n",
      "cmtt10\n",
      "DejaVu Sans Display\n",
      "cmex10\n",
      "DejaVu Serif Display\n",
      "STIXSizeTwoSym\n",
      "Liberation Sans Narrow\n",
      "Liberation Mono\n",
      "Ubuntu Condensed\n",
      "DejaVu Sans\n",
      "Nimbus Sans Narrow\n",
      "Standard Symbols PS\n",
      "URW Gothic\n",
      "Nimbus Sans\n",
      "Noto Sans Mono\n",
      "D050000L\n",
      "STIXSizeFourSym\n",
      "Z003\n",
      "C059\n",
      "Liberation Serif\n",
      "Liberation Sans\n",
      "STIXSizeThreeSym\n",
      "P052\n",
      "URW Bookman\n",
      "DejaVu Serif\n",
      "DejaVu Sans Mono\n",
      "STIXSizeOneSym\n",
      "Nimbus Roman\n"
     ]
    }
   ],
   "source": [
    "# get fonts again\n",
    "get_fonts()"
   ]
  },
  {
   "cell_type": "code",
   "execution_count": 7,
   "metadata": {},
   "outputs": [
    {
     "data": {
      "text/plain": [
       "True"
      ]
     },
     "execution_count": 7,
     "metadata": {},
     "output_type": "execute_result"
    }
   ],
   "source": [
    "fm = FontManager()\n",
    "mat_fonts = set(f.name for f in fm.ttflist)\n",
    "\n",
    "\"Microsoft YaHei\" in mat_fonts\n",
    "\n"
   ]
  },
  {
   "cell_type": "code",
   "execution_count": null,
   "metadata": {},
   "outputs": [],
   "source": [
    "!rm -rf ~/.cache/matplotlib/"
   ]
  }
 ],
 "metadata": {
  "kernelspec": {
   "display_name": "base",
   "language": "python",
   "name": "python3"
  },
  "language_info": {
   "codemirror_mode": {
    "name": "ipython",
    "version": 3
   },
   "file_extension": ".py",
   "mimetype": "text/x-python",
   "name": "python",
   "nbconvert_exporter": "python",
   "pygments_lexer": "ipython3",
   "version": "3.11.4"
  },
  "orig_nbformat": 4
 },
 "nbformat": 4,
 "nbformat_minor": 2
}
